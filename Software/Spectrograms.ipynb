{
 "cells": [
  {
   "cell_type": "markdown",
   "source": [
    "# Importazione librerie"
   ],
   "metadata": {
    "collapsed": false
   }
  },
  {
   "cell_type": "code",
   "execution_count": 0,
   "outputs": [],
   "source": [
    "import scipy as sci\n",
    "import numpy as np\n",
    "import os\n",
    "import matplotlib.pyplot as plt\n",
    "\n",
    "import  ImageFilter as filter"
   ],
   "metadata": {
    "collapsed": false
   }
  },
  {
   "cell_type": "markdown",
   "source": [
    "# Visualizzazione statistiche audio"
   ],
   "metadata": {
    "collapsed": false
   }
  },
  {
   "cell_type": "code",
   "execution_count": null,
   "outputs": [],
   "source": [
    "def getStatsAudio(pathAudios):\n",
    "    file_list_os = os.listdir(pathAudios)\n",
    "    nFile = len(file_list_os)\n",
    "\n",
    "    minLength = 0.25\n",
    "    maxLength = 3.4\n",
    "    file_list_os = os.listdir(pathAudios)\n",
    "    listSamples = []\n",
    "    max = 0\n",
    "    min = 0\n",
    "    sum = 0\n",
    "    indexMax = 0\n",
    "    indexMin = 0\n",
    "\n",
    "    for i in range(0,nFile):\n",
    "        nameFile = file_list_os[i]\n",
    "        filePath = os.path.join(pathAudios, nameFile)\n",
    "        sample_rate, samples = sci.io.wavfile.read(filePath)\n",
    "\n",
    "\n",
    "        if len(samples) < sample_rate*minLength:\n",
    "            print(nameFile + ' is too short ' + str(float(len(samples)/sample_rate)))\n",
    "            continue\n",
    "\n",
    "        if len(samples) > sample_rate*maxLength:\n",
    "            print(nameFile + ' is too long ' + str(float(len(samples)/sample_rate)))\n",
    "            continue\n",
    "\n",
    "        print(sample_rate, len(samples), str(float(len(samples)/sample_rate)), nameFile)\n",
    "\n",
    "        listSamples.append(samples)\n",
    "        app = len(samples)\n",
    "\n",
    "        if app>max :\n",
    "            max = app\n",
    "            indexMax = i\n",
    "        if app<min or min==0 :\n",
    "            min = app\n",
    "            indexMin = i\n",
    "        sum += app\n",
    "\n",
    "\n",
    "    print('\\n')\n",
    "    print(str(len(listSamples)) + ' audios selected on ' + str(nFile))\n",
    "    print('N. ' + str(indexMax+1) + ' is longest wav: ' + str(float(max)/sample_rate) + ' seconds, file: ' + file_list_os[indexMax])\n",
    "    print('N. ' + str(indexMin+1) + ' is shortest wav: ' + str(float(min)/sample_rate) + ' seconds, file: ' + file_list_os[indexMin])\n",
    "    print('Mean: ' + str(float(sum)/(sample_rate*len(listSamples))) + ' seconds')\n"
   ],
   "metadata": {
    "collapsed": false
   }
  },
  {
   "cell_type": "markdown",
   "source": [
    "# Funzioni per creazione spettrogrammi"
   ],
   "metadata": {
    "collapsed": false
   }
  },
  {
   "cell_type": "code",
   "execution_count": 2,
   "outputs": [],
   "source": [
    "#Funzione per creazione di un singolo spettrogramma\n",
    "#Frequenze tra 5 kHz e 25 kHz\n",
    "#Hanning window, window_size=2048, overlap 50%, nfft=2048\n",
    "def getAndSaveSpectrogram(signal, fs, outputPath, window_size=2048, overlap=1024):\n",
    "    #fs, signal = sci.io.wavfile.read(filename)\n",
    "    step = window_size - overlap\n",
    "    bins = np.arange(0, len(signal) - window_size + 1, step)\n",
    "    window = np.hanning(window_size)\n",
    "    spectrogram = []\n",
    "\n",
    "    for start in bins:\n",
    "        segment = signal[start:start + window_size] * window\n",
    "        spectrum = np.fft.fft(segment, n=2048)[:window_size // 2]\n",
    "        magnitude = np.abs(spectrum)\n",
    "        magnitude_db = 20 * np.log10(magnitude)\n",
    "        spectrogram.append(magnitude_db)\n",
    "\n",
    "    spectrogram =  np.array(spectrogram).T\n",
    "\n",
    "    max_freq = 25000\n",
    "    freq_bins = int(max_freq / (fs / window_size))\n",
    "\n",
    "    min_freq = 5000\n",
    "    freq_bins_min = int(min_freq / (fs / window_size))\n",
    "\n",
    "    # Plot the spectrogram\n",
    "    plt.gray()\n",
    "    plt.rcParams['axes.grid'] = False\n",
    "    plt.rcParams['image.origin'] = 'lower'\n",
    "    plt.rcParams['image.aspect'] = 'auto'\n",
    "    plt.axis('off')\n",
    "\n",
    "    plt.imshow(spectrogram[freq_bins_min:freq_bins, :],  extent=[0, len(signal)/fs, min_freq, max_freq])\n",
    "    plt.savefig(outputPath, bbox_inches='tight', pad_inches=0)\n",
    "    figure = plt.gcf()\n",
    "    plt.clf()\n",
    "    return figure\n",
    "\n",
    "\n",
    "\n",
    "\n",
    "\n",
    "#Creazione degli spettrogrammi in scala di grigio da file Wav all'interno di una cartella.\n",
    "#Gli audio sotto i 250 ms non vengono presi in considerazione\n",
    "#Gli audio con durata superiore ad un secondo, vengono suddivisi in frame da 600 ms scorrendo ogni 200 ms e vengono memorizzati. Inoltre, viene memorizzato anche lo spettrogramma intero, della durata di tutto l'audio\n",
    "def buildSpectrograms(inputDirectory, outputDirectory):\n",
    "    file_list_os = os.listdir(inputDirectory)\n",
    "    nFile = len(file_list_os)\n",
    "    print(nFile)\n",
    "\n",
    "    minLength = 0.25\n",
    "    splitMinLength = 1\n",
    "    frameStep = 0.2\n",
    "\n",
    "    for i in range(0,nFile):\n",
    "        nameFile = file_list_os[i]\n",
    "        inputPath = os.path.join(inputDirectory, nameFile)\n",
    "\n",
    "        sample_rate, samples = sci.io.wavfile.read(inputPath)\n",
    "        print(sample_rate, len(samples), nameFile)\n",
    "\n",
    "        if len(samples) < sample_rate*minLength:\n",
    "            print(nameFile + ' is too short ' + str(float(len(samples)/sample_rate)))\n",
    "            continue\n",
    "\n",
    "        if len(samples) > sample_rate*splitMinLength:\n",
    "            nFrame = int(len(samples)/sample_rate/frameStep) - 2\n",
    "            for k in range(0, nFrame-1):\n",
    "                subSamples = samples[int(k*frameStep*sample_rate) : int((k+3)*frameStep*sample_rate)]\n",
    "                outputPath = os.path.join(outputDirectory, nameFile.split('.')[0] + '_' + str(k+1) + '.png')\n",
    "                getAndSaveSpectrogram(subSamples, sample_rate, outputPath)\n",
    "\n",
    "            subSamples = samples[int((nFrame-1)*frameStep*sample_rate) : ]\n",
    "            outputPath = os.path.join(outputDirectory, nameFile.split('.')[0] + '_' + str(nFrame) + '.png')\n",
    "            getAndSaveSpectrogram(subSamples, sample_rate, outputPath)\n",
    "\n",
    "\n",
    "\n",
    "\n",
    "        outputPath = os.path.join(outputDirectory, nameFile.split('.')[0] + '.png')\n",
    "        getAndSaveSpectrogram(samples, sample_rate, outputPath)\n"
   ],
   "metadata": {
    "collapsed": false,
    "ExecuteTime": {
     "end_time": "2023-09-09T14:00:53.218748500Z",
     "start_time": "2023-09-09T14:00:53.185748500Z"
    }
   }
  },
  {
   "cell_type": "markdown",
   "source": [
    "## Creazione spettrogrammi in scala di grigio\n",
    "Gli spettrogrammi dei fischi e dei rumori vengono memorizzati rispettivamente nelle cartelle Whistle e Noise"
   ],
   "metadata": {
    "collapsed": false
   }
  },
  {
   "cell_type": "code",
   "execution_count": null,
   "outputs": [],
   "source": [
    "buildSpectrograms('Data\\\\Audio\\\\Whistle', 'Data\\\\SpectrogramGray\\\\Whistle')\n",
    "buildSpectrograms('Data\\\\Audio\\\\Noise', 'Data\\\\SpectrogramGray\\\\Noise')"
   ],
   "metadata": {
    "collapsed": false
   }
  },
  {
   "cell_type": "markdown",
   "source": [
    "# Applicazione filtro Sobel\n",
    "Tramite il codice scritto nel file ImageFilter.py, viene applicato il filtro Sobel alle immagini presenti nella cartella dei fischi e dei rumori.\n",
    "Il filtro Sobel viene utilizzato verticalmente per eliminare il rumore di sottofondo e i rumori verticali, evidenziando le caratteristiche orizzontali dell'immagine."
   ],
   "metadata": {
    "collapsed": false
   }
  },
  {
   "cell_type": "code",
   "execution_count": null,
   "outputs": [],
   "source": [
    "filter.sobelFilterDirectory('Data\\\\SpectrogramGray\\\\Whistle', 'Data\\\\Sobel\\\\Whistle')\n",
    "filter.sobelFilterDirectory('Data\\\\SpectrogramGray\\\\Noise', 'Data\\\\Sobel\\\\Noise')"
   ],
   "metadata": {
    "collapsed": false
   }
  }
 ],
 "metadata": {
  "kernelspec": {
   "display_name": "Python 3",
   "language": "python",
   "name": "python3"
  },
  "language_info": {
   "codemirror_mode": {
    "name": "ipython",
    "version": 2
   },
   "file_extension": ".py",
   "mimetype": "text/x-python",
   "name": "python",
   "nbconvert_exporter": "python",
   "pygments_lexer": "ipython2",
   "version": "2.7.6"
  }
 },
 "nbformat": 4,
 "nbformat_minor": 0
}
